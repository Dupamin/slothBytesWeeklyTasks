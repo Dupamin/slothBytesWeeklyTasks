{
 "cells": [
  {
   "cell_type": "code",
   "execution_count": 52,
   "metadata": {},
   "outputs": [],
   "source": [
    "def charPlusOneSimple(word):\n",
    "    return \"\".join(chr(ord(c)+1) if ord(c)+1 <= 122 else \"\".join(chr(97)) for c in word)"
   ]
  },
  {
   "cell_type": "code",
   "execution_count": 53,
   "metadata": {},
   "outputs": [],
   "source": [
    "def charPlusOneComplicated(word):\n",
    "    xpse = \"\"\n",
    "    for c in word:\n",
    "        v = ord(c)+1\n",
    "        if v > 122:\n",
    "            v = 97\n",
    "        xpse += \"\".join(chr(v))\n",
    "    return xpse"
   ]
  },
  {
   "cell_type": "code",
   "execution_count": 54,
   "metadata": {},
   "outputs": [
    {
     "name": "stdout",
     "output_type": "stream",
     "text": [
      "btdjj!aa\n",
      "btdjj!aa\n"
     ]
    }
   ],
   "source": [
    "print(charPlusOneSimple(\"ascii zz\"))\n",
    "print(charPlusOneComplicated(\"ascii zz\"))"
   ]
  }
 ],
 "metadata": {
  "kernelspec": {
   "display_name": "Python 3",
   "language": "python",
   "name": "python3"
  },
  "language_info": {
   "codemirror_mode": {
    "name": "ipython",
    "version": 3
   },
   "file_extension": ".py",
   "mimetype": "text/x-python",
   "name": "python",
   "nbconvert_exporter": "python",
   "pygments_lexer": "ipython3",
   "version": "3.12.4"
  }
 },
 "nbformat": 4,
 "nbformat_minor": 2
}
