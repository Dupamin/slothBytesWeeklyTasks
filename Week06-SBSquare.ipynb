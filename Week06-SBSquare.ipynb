{
 "cells": [
  {
   "cell_type": "code",
   "execution_count": 2,
   "metadata": {},
   "outputs": [],
   "source": [
    "class square():\n",
    "    instances = []\n",
    "    \n",
    "    def __init__(self, size=2):\n",
    "        self.size = size\n",
    "        square.instances.append(self.draw_square_2())\n",
    "        \n",
    "    def __str__(self):\n",
    "        return f\"This is a {self.size}x{self.size} square.\"\n",
    "    \n",
    "    def draw_square_1(self):\n",
    "        size = self.size\n",
    "        \n",
    "        rows, cols = (size, size)\n",
    "        sq_list = [[\"#\" for _ in range(cols)] for _ in range(rows)]\n",
    "        for r in range(rows):\n",
    "            for c in range(cols):\n",
    "                if r > 0 and r < size-1 and c > 0 and c < size-1:\n",
    "                    sq_list[c][r] = \"  \"\n",
    "                else:\n",
    "                    sq_list[c][r] += \" \"\n",
    "        return self, sq_list\n",
    "        \n",
    "    def draw_square_2(self):\n",
    "        size = self.size\n",
    "        sq_list = [\"#\" + \" \"*(size-2) + \"#\" if s > 0 and s < size-1\n",
    "                   else \"#\"*size\n",
    "                   for s in range(size)]\n",
    "        # sq_list = []\n",
    "        # for s in range(size):\n",
    "            # if s > 0 and s < size-1:\n",
    "            #     sq_list.append(\"#\" + \" \"*(size-2) + \"#\")\n",
    "            # else:\n",
    "            #     sq_list.append(\"#\"*size)\n",
    "            \n",
    "        return self, sq_list"
   ]
  },
  {
   "cell_type": "code",
   "execution_count": 3,
   "metadata": {},
   "outputs": [],
   "source": [
    "def print_all_objects(squareObj):\n",
    "    for i, item in enumerate(squareObj.instances):\n",
    "        print(f\"Square List {i+1} - {item[0]}\")\n",
    "        for it in item[1]:\n",
    "            print(*it)"
   ]
  },
  {
   "cell_type": "code",
   "execution_count": 5,
   "metadata": {},
   "outputs": [
    {
     "name": "stdout",
     "output_type": "stream",
     "text": [
      "Square List 1 - This is a 12x12 square.\n",
      "# # # # # # # # # # # #\n",
      "#                     #\n",
      "#                     #\n",
      "#                     #\n",
      "#                     #\n",
      "#                     #\n",
      "#                     #\n",
      "#                     #\n",
      "#                     #\n",
      "#                     #\n",
      "#                     #\n",
      "# # # # # # # # # # # #\n",
      "Square List 2 - This is a 5x5 square.\n",
      "# # # # #\n",
      "#       #\n",
      "#       #\n",
      "#       #\n",
      "# # # # #\n",
      "Square List 3 - This is a 12x12 square.\n",
      "# # # # # # # # # # # #\n",
      "#                     #\n",
      "#                     #\n",
      "#                     #\n",
      "#                     #\n",
      "#                     #\n",
      "#                     #\n",
      "#                     #\n",
      "#                     #\n",
      "#                     #\n",
      "#                     #\n",
      "# # # # # # # # # # # #\n",
      "Square List 4 - This is a 5x5 square.\n",
      "# # # # #\n",
      "#       #\n",
      "#       #\n",
      "#       #\n",
      "# # # # #\n"
     ]
    }
   ],
   "source": [
    "# import numpy as np\n",
    "\n",
    "SquareOne = square(12)\n",
    "SquareTwo = square(5)\n",
    "# print(*square.instances, sep=\"\\n\")\n",
    "# print(\"\\nSquare List 1:\")\n",
    "# print(*SquareOne.draw_square_1(), sep=\"\\n\")\n",
    "# for item in SquareOne.draw_square_1():\n",
    "#     print(*item)\n",
    "\n",
    "print_all_objects(square)\n",
    "\n",
    "# print(\"\\nSquare List 2:\")\n",
    "# print(*SquareTwo.draw_square_2(), sep=\"\\n\")"
   ]
  }
 ],
 "metadata": {
  "kernelspec": {
   "display_name": "Python 3",
   "language": "python",
   "name": "python3"
  },
  "language_info": {
   "codemirror_mode": {
    "name": "ipython",
    "version": 3
   },
   "file_extension": ".py",
   "mimetype": "text/x-python",
   "name": "python",
   "nbconvert_exporter": "python",
   "pygments_lexer": "ipython3",
   "version": "3.12.4"
  }
 },
 "nbformat": 4,
 "nbformat_minor": 2
}
